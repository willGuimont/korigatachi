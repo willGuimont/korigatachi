{
 "cells": [
  {
   "cell_type": "code",
   "execution_count": 1,
   "metadata": {
    "collapsed": true
   },
   "outputs": [
    {
     "ename": "ModuleNotFoundError",
     "evalue": "No module named 'cv2'",
     "output_type": "error",
     "traceback": [
      "\u001B[0;31m---------------------------------------------------------------------------\u001B[0m",
      "\u001B[0;31mModuleNotFoundError\u001B[0m                       Traceback (most recent call last)",
      "Cell \u001B[0;32mIn [1], line 3\u001B[0m\n\u001B[1;32m      1\u001B[0m \u001B[38;5;28;01mimport\u001B[39;00m \u001B[38;5;21;01mmatplotlib\u001B[39;00m\u001B[38;5;21;01m.\u001B[39;00m\u001B[38;5;21;01mpyplot\u001B[39;00m \u001B[38;5;28;01mas\u001B[39;00m \u001B[38;5;21;01mplt\u001B[39;00m\n\u001B[1;32m      2\u001B[0m \u001B[38;5;28;01mimport\u001B[39;00m \u001B[38;5;21;01mnumpy\u001B[39;00m \u001B[38;5;28;01mas\u001B[39;00m \u001B[38;5;21;01mnp\u001B[39;00m\n\u001B[0;32m----> 3\u001B[0m \u001B[38;5;28;01mfrom\u001B[39;00m \u001B[38;5;21;01mcv2\u001B[39;00m \u001B[38;5;28;01mimport\u001B[39;00m cv2 \u001B[38;5;28;01mas\u001B[39;00m cv\n\u001B[1;32m      4\u001B[0m \u001B[38;5;28;01mfrom\u001B[39;00m \u001B[38;5;21;01mscipy\u001B[39;00m\u001B[38;5;21;01m.\u001B[39;00m\u001B[38;5;21;01moptimize\u001B[39;00m \u001B[38;5;28;01mimport\u001B[39;00m fmin\n\u001B[1;32m      5\u001B[0m \u001B[38;5;28;01mfrom\u001B[39;00m \u001B[38;5;21;01msklearn\u001B[39;00m\u001B[38;5;21;01m.\u001B[39;00m\u001B[38;5;21;01mcluster\u001B[39;00m \u001B[38;5;28;01mimport\u001B[39;00m KMeans\n",
      "\u001B[0;31mModuleNotFoundError\u001B[0m: No module named 'cv2'"
     ]
    }
   ],
   "source": [
    "import matplotlib.pyplot as plt\n",
    "import numpy as np\n",
    "from cv2 import cv2 as cv\n",
    "from scipy.optimize import fmin\n",
    "from sklearn.cluster import KMeans"
   ]
  },
  {
   "cell_type": "markdown",
   "source": [
    "# Detect stones"
   ],
   "metadata": {
    "collapsed": false
   }
  },
  {
   "cell_type": "code",
   "execution_count": null,
   "outputs": [],
   "source": [
    "synthetic_board = False\n",
    "path = '../data/board.png' if synthetic_board else '../data/board_real.jpg'\n",
    "min_radius, max_radius = (0, 100) if synthetic_board else (100, 150)\n",
    "min_dist = 50 if synthetic_board else 100\n",
    "blur_size = 5 if synthetic_board else 11\n",
    "\n",
    "img = cv.imread(path)\n",
    "\n",
    "if not synthetic_board:\n",
    "    img = img[150:-200, 300:-250]\n",
    "\n",
    "gray = cv.cvtColor(img, cv.COLOR_BGR2GRAY)\n",
    "blurred = cv.medianBlur(gray, blur_size)\n",
    "\n",
    "circles = cv.HoughCircles(blurred, cv.HOUGH_GRADIENT, 2, min_dist, param1=100, param2=100, minRadius=min_radius,\n",
    "                          maxRadius=max_radius)\n",
    "\n",
    "circles = np.uint16(np.around(circles)).squeeze()\n",
    "\n",
    "circles_color = []\n",
    "for c in circles:\n",
    "    x, y, r = c\n",
    "    x, y, r = int(x), int(y), int(r)\n",
    "    bx, by = x - r, y - r\n",
    "    bxx, byy = x + r, y + r\n",
    "\n",
    "    bx = max(bx, 0)\n",
    "    by = max(by, 0)\n",
    "\n",
    "    px = blurred[by:byy, bx:bxx]\n",
    "    is_white = np.mean(px) > 127\n",
    "    circles_color.append(is_white)\n",
    "\n",
    "for i, c in enumerate(circles):\n",
    "    center = (c[0], c[1])\n",
    "    radius = c[2]\n",
    "    color = (255, 0, 255) if circles_color[i] else (255, 255, 0)\n",
    "\n",
    "    cv.circle(img, center, 1, (0, 100, 100), 10)\n",
    "    cv.circle(img, center, radius, color, 10)\n",
    "\n",
    "plt.imshow(cv.cvtColor(img, cv.COLOR_BGR2RGB))\n",
    "plt.show()"
   ],
   "metadata": {
    "collapsed": false
   }
  },
  {
   "cell_type": "markdown",
   "source": [
    "# Detect lines"
   ],
   "metadata": {
    "collapsed": false
   }
  },
  {
   "cell_type": "code",
   "execution_count": null,
   "outputs": [],
   "source": [
    "img = cv.imread(path)\n",
    "\n",
    "if not synthetic_board:\n",
    "    img = img[150:-200, 300:-250]\n",
    "\n",
    "draw = np.zeros_like(img)\n",
    "draw = np.copy(img)\n",
    "gray = cv.cvtColor(img, cv.COLOR_BGR2GRAY)\n",
    "# blurred = cv.medianBlur(gray, 3)\n",
    "blurred = np.copy(gray)\n",
    "\n",
    "edges = cv.Canny(blurred, 50, 200, None, 3)\n",
    "\n",
    "linesP = cv.HoughLinesP(edges, 1, np.pi / 2, 100, None, 300, 500)\n",
    "\n",
    "h_lines = []\n",
    "v_lines = []\n",
    "for i in range(0, len(linesP)):\n",
    "    x1, y1, x2, y2 = linesP[i][0]\n",
    "    dx, dy = x2 - x1, y2 - y1\n",
    "\n",
    "    if np.sqrt(dx * dx + dy * dy) < 10:\n",
    "        continue\n",
    "\n",
    "    theta = np.arctan2(dy, dx)\n",
    "    if 80 < np.rad2deg(abs(theta)) < 100:\n",
    "        h_lines.append(linesP[i, 0])\n",
    "        cv.line(draw, (x1, y1), (x2, y2), (255, 0, 0), 3, cv.LINE_AA)\n",
    "    if np.rad2deg(abs(theta)) < 10 or np.rad2deg(abs(theta)) > 170:\n",
    "        v_lines.append(linesP[i, 0])\n",
    "        cv.line(draw, (x1, y1), (x2, y2), (0, 255, 255), 3, cv.LINE_AA)\n",
    "\n",
    "h_lines = np.array(h_lines)\n",
    "v_lines = np.array(v_lines)\n",
    "\n",
    "plt.imshow(cv.cvtColor(draw, cv.COLOR_BGR2RGB))\n",
    "plt.show()"
   ],
   "metadata": {
    "collapsed": false
   }
  },
  {
   "cell_type": "markdown",
   "source": [
    "# Merge lines"
   ],
   "metadata": {
    "collapsed": false
   }
  },
  {
   "cell_type": "code",
   "execution_count": null,
   "outputs": [],
   "source": [
    "img = cv.imread(path)\n",
    "\n",
    "if not synthetic_board:\n",
    "    img = img[150:-200, 300:-250]\n",
    "\n",
    "print(f'num h_lines {len(h_lines)}')\n",
    "\n",
    "\n",
    "def to_rho_theta(line):\n",
    "    x1, y1, x2, y2 = line.astype(float)\n",
    "    p1 = np.array([x1, y1])\n",
    "    p2 = np.array([x2, y2])\n",
    "    d = p2 - p1\n",
    "    n = d[::-1]\n",
    "    n[0] *= -1\n",
    "    if np.dot(-p1, n) < 0:\n",
    "        n *= -1\n",
    "    n /= np.linalg.norm(n)\n",
    "    rho = np.dot(n, p1)\n",
    "    theta = np.arctan2(d[1], d[0])\n",
    "    if theta < 0:\n",
    "        theta = abs(theta)\n",
    "        rho *= -1\n",
    "    return rho, theta\n",
    "\n",
    "\n",
    "def to_positive_rho(line):\n",
    "    rho, theta = line\n",
    "    if rho < 0:\n",
    "        rho = np.abs(rho)\n",
    "        theta -= np.pi\n",
    "    return rho, theta\n",
    "\n",
    "\n",
    "def cluster_lines(img, lines):\n",
    "    rows, cols, _ = img.shape\n",
    "    max_rho = np.sqrt(rows ** 2 + cols ** 2)\n",
    "    max_theta = np.pi\n",
    "\n",
    "    # Normalize for clustering\n",
    "    normalized = np.array(list(map(lambda x: (x[0] / max_rho, x[1] / max_theta), lines)))\n",
    "\n",
    "    # Remove duplicate lines\n",
    "    clusters = KMeans(n_clusters=15, n_init=15).fit(normalized)\n",
    "    # TODO maybe use DBSCAN and filter out clusters that are not 90 deg from another one\n",
    "    # TODO maybe check intra-cluster variance to determine if the clustering worked\n",
    "\n",
    "    # Transform back to rho-theta space\n",
    "    return list(map(lambda x: (x[0] * max_rho, x[1] * max_theta), clusters.cluster_centers_))\n",
    "\n",
    "\n",
    "h_rho_theta_lines = list(map(lambda l: to_positive_rho(to_rho_theta(l)), h_lines))\n",
    "h_merged_lines = cluster_lines(img, h_rho_theta_lines)\n",
    "h_merged_lines = list(filter(lambda x: x[0] > 10 and x[0] < img.shape[0] - 10, h_merged_lines))\n",
    "\n",
    "v_rho_theta_lines = list(map(lambda l: to_positive_rho(to_rho_theta(l)), v_lines))\n",
    "v_merged_lines = cluster_lines(img, v_rho_theta_lines)\n",
    "v_merged_lines = list(filter(lambda x: x[0] > 10 and x[0] < img.shape[1] - 10, v_merged_lines))\n",
    "\n",
    "min_h_line = min(h_merged_lines, key=lambda x: x[0])\n",
    "max_h_line = max(h_merged_lines, key=lambda x: x[0])\n",
    "min_v_line = min(v_merged_lines, key=lambda x: x[0])\n",
    "max_v_line = max(v_merged_lines, key=lambda x: x[0])\n",
    "\n",
    "for rho, theta in [max_h_line, min_h_line]:\n",
    "    pt1 = 0, int(rho)\n",
    "    pt2 = img.shape[0], int(rho)\n",
    "    cv.line(img, pt1, pt2, (255, 0, 255), 10, cv.LINE_AA)\n",
    "\n",
    "for rho, theta in [max_v_line, min_v_line]:\n",
    "    pt1 = int(rho), 0\n",
    "    pt2 = int(rho), img.shape[0]\n",
    "    print(pt1, pt2)\n",
    "    cv.line(img, pt1, pt2, (0, 0, 255), 10, cv.LINE_AA)\n",
    "\n",
    "plt.imshow(cv.cvtColor(img, cv.COLOR_BGR2RGB))\n",
    "plt.show()"
   ],
   "metadata": {
    "collapsed": false
   }
  },
  {
   "cell_type": "markdown",
   "source": [
    "# Putting it all together"
   ],
   "metadata": {
    "collapsed": false
   }
  },
  {
   "cell_type": "code",
   "execution_count": null,
   "outputs": [],
   "source": [
    "img = cv.imread(path)\n",
    "\n",
    "if not synthetic_board:\n",
    "    img = img[150:-200, 300:-250]\n",
    "\n",
    "plt.imshow(cv.cvtColor(img, cv.COLOR_BGR2RGB))\n",
    "plt.show()\n",
    "\n",
    "for i, c in enumerate(circles):\n",
    "    center = (c[0], c[1])\n",
    "    radius = c[2]\n",
    "    color = (255, 0, 255) if circles_color[i] else (255, 255, 0)\n",
    "\n",
    "    cv.circle(img, center, 1, (0, 100, 100), 10)\n",
    "    cv.circle(img, center, radius, color, 10)\n",
    "\n",
    "for rho, theta in [max_h_line, min_h_line]:\n",
    "    pt1 = 0, int(rho)\n",
    "    pt2 = img.shape[0], int(rho)\n",
    "    # cv.line(img, pt1, pt2, (255, 0, 255), 10, cv.LINE_AA)\n",
    "\n",
    "for rho, theta in [max_v_line, min_v_line]:\n",
    "    pt1 = int(rho), 0\n",
    "    pt2 = int(rho), img.shape[0]\n",
    "    # cv.line(img, pt1, pt2, (0, 0, 255), 10, cv.LINE_AA)\n",
    "\n",
    "\n",
    "def func(grid):\n",
    "    sx, sy, w, h = grid\n",
    "    loss = 0\n",
    "    for x, y, r in circles:\n",
    "        x, y = x - sx, y - sy\n",
    "        gx, gy = x // w * w, y // h * h\n",
    "        loss += abs(gx - x) ** 2 + abs(gy - y) ** 2\n",
    "    return loss\n",
    "\n",
    "\n",
    "x1, y1 = min_h_line[0], min_h_line[0]\n",
    "x2, y2 = max_v_line[0], max_v_line[0]\n",
    "\n",
    "gx, gy, gw, gh = fmin(func, [x1, y1, (x2 - x1) / 8 * 1, (y2 - y1) / 8 * 1])\n",
    "\n",
    "for i in range(9):\n",
    "    x, y = int(i * gw + gx), int(i * gh + gy)\n",
    "    cv.line(img, (0, y), (img.shape[0], y), (255, 0, 0), 10)\n",
    "    cv.line(img, (x, 0), (x, img.shape[1]), (255, 0, 0), 10)\n",
    "\n",
    "board = np.zeros((9, 9), dtype=int)\n",
    "draw = np.full_like(img, (127, 127, 127))\n",
    "for i, (cx, cy, cr) in enumerate(circles):\n",
    "    x, y = int((cx - gx + cr) // gw * gw + gx), int((cy - gy + cr) // gh * gh + gy)\n",
    "    bi, bj = int((cx - gx + cr) // gw), int((cy - gy + cr) // gh)\n",
    "    board[bi, bj] = 2 if circles_color[i] else 1\n",
    "    cv.circle(draw, (x, y), cr, (255, 255, 255) if circles_color[i] else (0, 0, 0), -1)\n",
    "print(board.T)\n",
    "plt.imshow(cv.cvtColor(img, cv.COLOR_BGR2RGB))\n",
    "plt.show()\n",
    "plt.imshow(cv.cvtColor(draw, cv.COLOR_BGR2RGB))\n",
    "plt.show()"
   ],
   "metadata": {
    "collapsed": false
   }
  },
  {
   "cell_type": "markdown",
   "source": [
    "# Find board"
   ],
   "metadata": {
    "collapsed": false
   }
  },
  {
   "cell_type": "code",
   "execution_count": null,
   "outputs": [],
   "source": [
    "img = cv.imread(path)\n",
    "\n",
    "rows, cols, _channels = map(int, img.shape)\n",
    "img = cv.pyrDown(img, dstsize=(cols // 2, rows // 2))\n",
    "\n",
    "# if not synthetic_board:\n",
    "#     img = img[150:-200, 300:-250]\n",
    "\n",
    "draw = np.zeros_like(img)\n",
    "draw = np.copy(img)\n",
    "gray = cv.cvtColor(img, cv.COLOR_BGR2GRAY)\n",
    "\n",
    "blurred = cv.medianBlur(gray, 11)\n",
    "\n",
    "edges = cv.Canny(blurred, 100, 200, None, 3)\n",
    "\n",
    "_, thresh = cv.threshold(edges, 127, 255, cv.THRESH_BINARY)\n",
    "contours, hierarchy = cv.findContours(thresh, cv.RETR_EXTERNAL, cv.CHAIN_APPROX_SIMPLE)\n",
    "biggest_contour = max(contours, key=lambda c: cv.contourArea(c))\n",
    "# cv.drawContours(draw, contours, -1, (0, 255, 0), 3)\n",
    "\n",
    "board_mask = np.zeros(img.shape[:2], dtype=np.uint8)\n",
    "\n",
    "for i, c in enumerate(contours):\n",
    "    rect = cv.boundingRect(contours[i])\n",
    "    cv.rectangle(board_mask, (int(rect[0]), int(rect[1])), (int(rect[0] + rect[2]), int(rect[1] + rect[3])),\n",
    "                 255, -1)\n",
    "\n",
    "contours, hierarchy = cv.findContours(board_mask, cv.RETR_EXTERNAL, cv.CHAIN_APPROX_SIMPLE)\n",
    "biggest_contour = max(contours, key=lambda c: cv.contourArea(c))\n",
    "\n",
    "board_mask[:, :] = 0\n",
    "cv.drawContours(board_mask, [biggest_contour], -1, 255, 10)\n",
    "board_rect = cv.boundingRect(biggest_contour)\n",
    "\n",
    "cv.rectangle(draw, (int(rect[0]), int(rect[1])), (int(rect[0] + rect[2]), int(rect[1] + rect[3])),\n",
    "             (255, 255, 0), 5)\n",
    "\n",
    "plt.imshow(board_mask)\n",
    "plt.show()\n",
    "\n",
    "plt.imshow(cv.cvtColor(draw, cv.COLOR_BGR2RGB))\n",
    "plt.show()\n",
    "\n",
    "plt.imshow(cv.cvtColor(blurred, cv.COLOR_BGR2RGB))\n",
    "plt.show()"
   ],
   "metadata": {
    "collapsed": false
   }
  }
 ],
 "metadata": {
  "kernelspec": {
   "display_name": "Python 3",
   "language": "python",
   "name": "python3"
  },
  "language_info": {
   "codemirror_mode": {
    "name": "ipython",
    "version": 2
   },
   "file_extension": ".py",
   "mimetype": "text/x-python",
   "name": "python",
   "nbconvert_exporter": "python",
   "pygments_lexer": "ipython2",
   "version": "2.7.6"
  }
 },
 "nbformat": 4,
 "nbformat_minor": 0
}
