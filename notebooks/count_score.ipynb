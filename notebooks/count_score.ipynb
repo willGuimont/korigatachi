{
 "cells": [
  {
   "cell_type": "code",
   "execution_count": 1,
   "outputs": [],
   "source": [
    "import matplotlib.pyplot as plt\n",
    "import numpy as np"
   ],
   "metadata": {
    "collapsed": false
   }
  },
  {
   "cell_type": "code",
   "execution_count": 4,
   "outputs": [
    {
     "name": "stdout",
     "output_type": "stream",
     "text": [
      "20\n"
     ]
    }
   ],
   "source": [
    "board = np.array([[0, 0, 0, 0, 1, 2, 2, 0, 0],\n",
    "                  [0, 0, 0, 0, 1, 1, 2, 0, 0],\n",
    "                  [0, 0, 0, 0, 0, 1, 2, 2, 0],\n",
    "                  [0, 0, 1, 0, 1, 0, 1, 2, 0],\n",
    "                  [1, 1, 1, 0, 0, 0, 1, 2, 0],\n",
    "                  [2, 2, 2, 1, 1, 1, 2, 0, 0],\n",
    "                  [0, 2, 0, 2, 1, 0, 2, 0, 0],\n",
    "                  [1, 1, 2, 2, 1, 1, 2, 2, 2],\n",
    "                  [0, 2, 0, 2, 2, 1, 1, 1, 0]])\n",
    "\n",
    "\n",
    "def flood_fill(x, y, arr):\n",
    "    w, h = arr.shape\n",
    "    positions = []\n",
    "    pos_queue = [(x, y)]\n",
    "    value = arr[x, y]\n",
    "    group_color = {(x, y)}\n",
    "\n",
    "    while len(pos_queue) > 0:\n",
    "        x, y = pos_queue.pop(0)\n",
    "        positions.append((x, y))\n",
    "        for i in [-1, 0, 1]:\n",
    "            for j in [-1, 0, 1]:\n",
    "                px, py = x + i, y + j\n",
    "                if (abs(i) + abs(j)) == 1 and 0 <= px < w and 0 <= py < h \\\n",
    "                        and arr[px, py] == value and (px, py) not in group_color:\n",
    "                    pos_queue.append((px, py))\n",
    "                    group_color.add((px, py))\n",
    "\n",
    "    return positions\n",
    "\n",
    "def count_territory(x, y, arr):\n",
    "    w, h = arr.shape\n",
    "    positions = []\n",
    "    pos_queue = [(x, y)]\n",
    "    seen = {(x, y)}\n",
    "    neighbor_color = None\n",
    "\n",
    "    if arr[x, y] != 0:\n",
    "        return []\n",
    "\n",
    "    while len(pos_queue) > 0:\n",
    "        x, y = pos_queue.pop(0)\n",
    "        positions.append((x, y))\n",
    "        for i in [-1, 0, 1]:\n",
    "            for j in [-1, 0, 1]:\n",
    "                px, py = x + i, y + j\n",
    "                if (abs(i) + abs(j)) == 1 and 0 <= px < w and 0 <= py < h and (px, py) not in seen:\n",
    "                    color = arr[px, py]\n",
    "                    if color == 0:\n",
    "                        pos_queue.append((px, py))\n",
    "                    else:\n",
    "                        if neighbor_color is None:\n",
    "                            neighbor_color = color\n",
    "                        else:\n",
    "                            if neighbor_color != color:\n",
    "                                return []\n",
    "                    seen.add((px, py))\n",
    "    return positions\n",
    "positions = flood_fill(0, 0, board)\n",
    "print(len(count_territory(0, 0, board)))\n",
    "# board_filled = np.zeros_like(board)\n",
    "# for p in positions:\n",
    "#     board_filled[p] = 1\n",
    "#\n",
    "# plt.imshow(board_filled)\n",
    "# plt.xticks(range(9))\n",
    "# plt.yticks(range(9))\n",
    "# plt.grid(which='major')\n",
    "# plt.show()\n"
   ],
   "metadata": {
    "collapsed": false
   }
  }
 ],
 "metadata": {
  "kernelspec": {
   "display_name": "Python 3",
   "language": "python",
   "name": "python3"
  },
  "language_info": {
   "codemirror_mode": {
    "name": "ipython",
    "version": 2
   },
   "file_extension": ".py",
   "mimetype": "text/x-python",
   "name": "python",
   "nbconvert_exporter": "python",
   "pygments_lexer": "ipython2",
   "version": "2.7.6"
  }
 },
 "nbformat": 4,
 "nbformat_minor": 0
}
